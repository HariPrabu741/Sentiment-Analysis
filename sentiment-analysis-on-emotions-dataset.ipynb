{
 "cells": [
  {
   "cell_type": "code",
   "execution_count": 1,
   "metadata": {
    "_cell_guid": "b1076dfc-b9ad-4769-8c92-a6c4dae69d19",
    "_uuid": "8f2839f25d086af736a60e9eeb907d3b93b6e0e5",
    "execution": {
     "iopub.execute_input": "2021-09-27T14:13:32.208951Z",
     "iopub.status.busy": "2021-09-27T14:13:32.208696Z",
     "iopub.status.idle": "2021-09-27T14:13:32.214519Z",
     "shell.execute_reply": "2021-09-27T14:13:32.213797Z",
     "shell.execute_reply.started": "2021-09-27T14:13:32.208922Z"
    }
   },
   "outputs": [],
   "source": [
    "# Importing packages\n",
    "\n",
    "import pandas as pd\n",
    "import numpy as np\n",
    "import matplotlib.pyplot as plt\n",
    "import seaborn as sns\n",
    "import re\n",
    "#from wordcloud import WordCloud    #library to visualize text data\n",
    "import nltk\n",
    "from nltk.corpus import stopwords\n",
    "from nltk.stem import WordNetLemmatizer\n",
    "from sklearn.feature_extraction.text import CountVectorizer   #Transform text to vectors.\n",
    "from sklearn.model_selection import train_test_split\n",
    "from sklearn.naive_bayes import MultinomialNB\n",
    "from sklearn.metrics import accuracy_score,confusion_matrix,roc_curve,classification_report,precision_score,recall_score"
   ]
  },
  {
   "cell_type": "code",
   "execution_count": 2,
   "metadata": {
    "execution": {
     "iopub.execute_input": "2021-09-27T12:28:32.178331Z",
     "iopub.status.busy": "2021-09-27T12:28:32.178088Z",
     "iopub.status.idle": "2021-09-27T12:28:32.271920Z",
     "shell.execute_reply": "2021-09-27T12:28:32.270801Z",
     "shell.execute_reply.started": "2021-09-27T12:28:32.178305Z"
    }
   },
   "outputs": [
    {
     "name": "stdout",
     "output_type": "stream",
     "text": [
      "(16000, 2)\n",
      "(2000, 2)\n"
     ]
    }
   ],
   "source": [
    "# Reading dataset\n",
    "df_train = pd.read_csv(r\"D:\\1 Chrome Downloads\\train.txt\", delimiter = ';', names = ['text', 'label'])\n",
    "df_val = pd.read_csv(r\"D:\\1 Chrome Downloads\\val.txt\", delimiter = ';', names = ['text', 'label'])\n",
    "\n",
    "print(df_train.shape)\n",
    "print(df_val.shape)"
   ]
  },
  {
   "cell_type": "code",
   "execution_count": 3,
   "metadata": {
    "execution": {
     "iopub.execute_input": "2021-09-27T12:28:32.273581Z",
     "iopub.status.busy": "2021-09-27T12:28:32.273320Z",
     "iopub.status.idle": "2021-09-27T12:28:32.304722Z",
     "shell.execute_reply": "2021-09-27T12:28:32.304058Z",
     "shell.execute_reply.started": "2021-09-27T12:28:32.273549Z"
    }
   },
   "outputs": [
    {
     "name": "stdout",
     "output_type": "stream",
     "text": [
      "(18000, 2)\n"
     ]
    },
    {
     "data": {
      "text/html": [
       "<div>\n",
       "<style scoped>\n",
       "    .dataframe tbody tr th:only-of-type {\n",
       "        vertical-align: middle;\n",
       "    }\n",
       "\n",
       "    .dataframe tbody tr th {\n",
       "        vertical-align: top;\n",
       "    }\n",
       "\n",
       "    .dataframe thead th {\n",
       "        text-align: right;\n",
       "    }\n",
       "</style>\n",
       "<table border=\"1\" class=\"dataframe\">\n",
       "  <thead>\n",
       "    <tr style=\"text-align: right;\">\n",
       "      <th></th>\n",
       "      <th>text</th>\n",
       "      <th>label</th>\n",
       "    </tr>\n",
       "  </thead>\n",
       "  <tbody>\n",
       "    <tr>\n",
       "      <th>17899</th>\n",
       "      <td>i feel funny inside is that a reference to the...</td>\n",
       "      <td>surprise</td>\n",
       "    </tr>\n",
       "    <tr>\n",
       "      <th>7651</th>\n",
       "      <td>i always feel horny nowadays</td>\n",
       "      <td>love</td>\n",
       "    </tr>\n",
       "    <tr>\n",
       "      <th>14718</th>\n",
       "      <td>i am just feeling shitty right now</td>\n",
       "      <td>sadness</td>\n",
       "    </tr>\n",
       "    <tr>\n",
       "      <th>11058</th>\n",
       "      <td>i wonder if they feel like reluctant leaders</td>\n",
       "      <td>fear</td>\n",
       "    </tr>\n",
       "    <tr>\n",
       "      <th>16378</th>\n",
       "      <td>i feel quite clever</td>\n",
       "      <td>joy</td>\n",
       "    </tr>\n",
       "  </tbody>\n",
       "</table>\n",
       "</div>"
      ],
      "text/plain": [
       "                                                    text     label\n",
       "17899  i feel funny inside is that a reference to the...  surprise\n",
       "7651                        i always feel horny nowadays      love\n",
       "14718                 i am just feeling shitty right now   sadness\n",
       "11058       i wonder if they feel like reluctant leaders      fear\n",
       "16378                                i feel quite clever       joy"
      ]
     },
     "execution_count": 3,
     "metadata": {},
     "output_type": "execute_result"
    }
   ],
   "source": [
    "df = pd.concat([df_train,df_val])    #Merging two datasets\n",
    "df.reset_index(inplace = True, drop = True)\n",
    "\n",
    "print(df.shape) \n",
    "df.sample(5)   #Selects random sample"
   ]
  },
  {
   "cell_type": "code",
   "execution_count": 4,
   "metadata": {
    "execution": {
     "iopub.execute_input": "2021-09-27T12:28:32.308206Z",
     "iopub.status.busy": "2021-09-27T12:28:32.308005Z",
     "iopub.status.idle": "2021-09-27T12:28:32.707314Z",
     "shell.execute_reply": "2021-09-27T12:28:32.706520Z",
     "shell.execute_reply.started": "2021-09-27T12:28:32.308184Z"
    }
   },
   "outputs": [
    {
     "name": "stderr",
     "output_type": "stream",
     "text": [
      "C:\\Users\\USER\\anaconda3\\lib\\site-packages\\seaborn\\_decorators.py:36: FutureWarning: Pass the following variable as a keyword arg: x. From version 0.12, the only valid positional argument will be `data`, and passing other arguments without an explicit keyword will result in an error or misinterpretation.\n",
      "  warnings.warn(\n"
     ]
    },
    {
     "data": {
      "text/plain": [
       "<AxesSubplot:xlabel='label', ylabel='count'>"
      ]
     },
     "execution_count": 4,
     "metadata": {},
     "output_type": "execute_result"
    },
    {
     "data": {
      "image/png": "[encoded data removed]",
      "text/plain": [
       "<Figure size 432x288 with 1 Axes>"
      ]
     },
     "metadata": {
      "needs_background": "light"
     },
     "output_type": "display_data"
    }
   ],
   "source": [
    "sns.countplot(df.label)"
   ]
  },
  {
   "cell_type": "markdown",
   "metadata": {},
   "source": [
    "## <---> love, surprise, joy = positive statement\n",
    "## <---> sadness, anger, fear = negative statement"
   ]
  },
  {
   "cell_type": "code",
   "execution_count": 5,
   "metadata": {
    "execution": {
     "iopub.execute_input": "2021-09-27T12:28:32.711462Z",
     "iopub.status.busy": "2021-09-27T12:28:32.711215Z",
     "iopub.status.idle": "2021-09-27T12:28:32.721027Z",
     "shell.execute_reply": "2021-09-27T12:28:32.720347Z",
     "shell.execute_reply.started": "2021-09-27T12:28:32.711431Z"
    }
   },
   "outputs": [],
   "source": [
    "#converting labels to manual encoder\n",
    "\n",
    "def manual_encoder(df):\n",
    "    df.replace(to_replace = \"surprise\", value = 1, inplace = True)\n",
    "    df.replace(to_replace = \"love\", value = 1, inplace = True)\n",
    "    df.replace(to_replace = \"joy\", value = 1, inplace = True)\n",
    "    df.replace(to_replace = \"sadness\", value = 0, inplace = True)\n",
    "    df.replace(to_replace = \"anger\", value = 0, inplace = True)\n",
    "    df.replace(to_replace = \"fear\", value = 0, inplace = True)"
   ]
  },
  {
   "cell_type": "code",
   "execution_count": 6,
   "metadata": {
    "execution": {
     "iopub.execute_input": "2021-09-27T12:28:32.726834Z",
     "iopub.status.busy": "2021-09-27T12:28:32.724816Z",
     "iopub.status.idle": "2021-09-27T12:28:32.752523Z",
     "shell.execute_reply": "2021-09-27T12:28:32.751920Z",
     "shell.execute_reply.started": "2021-09-27T12:28:32.726798Z"
    }
   },
   "outputs": [],
   "source": [
    "manual_encoder(df['label'])"
   ]
  },
  {
   "cell_type": "code",
   "execution_count": 7,
   "metadata": {
    "execution": {
     "iopub.execute_input": "2021-09-27T12:28:32.758115Z",
     "iopub.status.busy": "2021-09-27T12:28:32.756178Z",
     "iopub.status.idle": "2021-09-27T12:28:32.772309Z",
     "shell.execute_reply": "2021-09-27T12:28:32.771583Z",
     "shell.execute_reply.started": "2021-09-27T12:28:32.758080Z"
    }
   },
   "outputs": [
    {
     "data": {
      "text/html": [
       "<div>\n",
       "<style scoped>\n",
       "    .dataframe tbody tr th:only-of-type {\n",
       "        vertical-align: middle;\n",
       "    }\n",
       "\n",
       "    .dataframe tbody tr th {\n",
       "        vertical-align: top;\n",
       "    }\n",
       "\n",
       "    .dataframe thead th {\n",
       "        text-align: right;\n",
       "    }\n",
       "</style>\n",
       "<table border=\"1\" class=\"dataframe\">\n",
       "  <thead>\n",
       "    <tr style=\"text-align: right;\">\n",
       "      <th></th>\n",
       "      <th>text</th>\n",
       "      <th>label</th>\n",
       "    </tr>\n",
       "  </thead>\n",
       "  <tbody>\n",
       "    <tr>\n",
       "      <th>1808</th>\n",
       "      <td>ive been having breakdowns again ive been feel...</td>\n",
       "      <td>0</td>\n",
       "    </tr>\n",
       "    <tr>\n",
       "      <th>7353</th>\n",
       "      <td>i am sure feeling nervous about potential air ...</td>\n",
       "      <td>0</td>\n",
       "    </tr>\n",
       "    <tr>\n",
       "      <th>7641</th>\n",
       "      <td>im feeling overwhelmed</td>\n",
       "      <td>1</td>\n",
       "    </tr>\n",
       "    <tr>\n",
       "      <th>16933</th>\n",
       "      <td>i gotta feeling that tonight s gonna be a good...</td>\n",
       "      <td>1</td>\n",
       "    </tr>\n",
       "    <tr>\n",
       "      <th>5380</th>\n",
       "      <td>im feeling kind of naughty</td>\n",
       "      <td>1</td>\n",
       "    </tr>\n",
       "  </tbody>\n",
       "</table>\n",
       "</div>"
      ],
      "text/plain": [
       "                                                    text  label\n",
       "1808   ive been having breakdowns again ive been feel...      0\n",
       "7353   i am sure feeling nervous about potential air ...      0\n",
       "7641                              im feeling overwhelmed      1\n",
       "16933  i gotta feeling that tonight s gonna be a good...      1\n",
       "5380                          im feeling kind of naughty      1"
      ]
     },
     "execution_count": 7,
     "metadata": {},
     "output_type": "execute_result"
    }
   ],
   "source": [
    "df.sample(5)"
   ]
  },
  {
   "cell_type": "code",
   "execution_count": 8,
   "metadata": {
    "execution": {
     "iopub.execute_input": "2021-09-27T12:28:32.777870Z",
     "iopub.status.busy": "2021-09-27T12:28:32.775898Z",
     "iopub.status.idle": "2021-09-27T12:28:32.986760Z",
     "shell.execute_reply": "2021-09-27T12:28:32.986096Z",
     "shell.execute_reply.started": "2021-09-27T12:28:32.777836Z"
    }
   },
   "outputs": [
    {
     "name": "stderr",
     "output_type": "stream",
     "text": [
      "C:\\Users\\USER\\anaconda3\\lib\\site-packages\\seaborn\\_decorators.py:36: FutureWarning: Pass the following variable as a keyword arg: x. From version 0.12, the only valid positional argument will be `data`, and passing other arguments without an explicit keyword will result in an error or misinterpretation.\n",
      "  warnings.warn(\n"
     ]
    },
    {
     "data": {
      "text/plain": [
       "<AxesSubplot:xlabel='label', ylabel='count'>"
      ]
     },
     "execution_count": 8,
     "metadata": {},
     "output_type": "execute_result"
    },
    {
     "data": {
      "image/png": "[encoded data removed]",
      "text/plain": [
       "<Figure size 432x288 with 1 Axes>"
      ]
     },
     "metadata": {
      "needs_background": "light"
     },
     "output_type": "display_data"
    }
   ],
   "source": [
    "sns.countplot(df.label)"
   ]
  },
  {
   "cell_type": "markdown",
   "metadata": {},
   "source": [
    "# Data Preprocessing"
   ]
  },
  {
   "cell_type": "code",
   "execution_count": 9,
   "metadata": {
    "execution": {
     "iopub.execute_input": "2021-09-27T12:28:32.988305Z",
     "iopub.status.busy": "2021-09-27T12:28:32.988036Z",
     "iopub.status.idle": "2021-09-27T12:28:32.992108Z",
     "shell.execute_reply": "2021-09-27T12:28:32.991467Z",
     "shell.execute_reply.started": "2021-09-27T12:28:32.988272Z"
    }
   },
   "outputs": [],
   "source": [
    "lm = WordNetLemmatizer()"
   ]
  },
  {
   "cell_type": "code",
   "execution_count": 10,
   "metadata": {
    "execution": {
     "iopub.execute_input": "2021-09-27T12:28:32.995392Z",
     "iopub.status.busy": "2021-09-27T12:28:32.994531Z",
     "iopub.status.idle": "2021-09-27T12:28:33.002736Z",
     "shell.execute_reply": "2021-09-27T12:28:33.001996Z",
     "shell.execute_reply.started": "2021-09-27T12:28:32.995297Z"
    }
   },
   "outputs": [],
   "source": [
    "def data_prep(df):\n",
    "    corpus = []\n",
    "    for i in df:\n",
    "        item = re.sub(\"[^A-Za-z]\",\" \",str(i))\n",
    "        item = item.lower() \n",
    "        item = item.split()\n",
    "        item = [lm.lemmatize(word) for word in item if word not in set(stopwords.words('english'))]\n",
    "        corpus.append(' '.join(str(x) for x in item))\n",
    "    return corpus\n",
    "    \n",
    "    "
   ]
  },
  {
   "cell_type": "code",
   "execution_count": 11,
   "metadata": {
    "execution": {
     "iopub.execute_input": "2021-09-27T12:28:33.004588Z",
     "iopub.status.busy": "2021-09-27T12:28:33.003911Z",
     "iopub.status.idle": "2021-09-27T12:29:17.051329Z",
     "shell.execute_reply": "2021-09-27T12:29:17.050627Z",
     "shell.execute_reply.started": "2021-09-27T12:28:33.004554Z"
    }
   },
   "outputs": [
    {
     "data": {
      "text/plain": [
       "['didnt feel humiliated',\n",
       " 'go feeling hopeless damned hopeful around someone care awake',\n",
       " 'im grabbing minute post feel greedy wrong',\n",
       " 'ever feeling nostalgic fireplace know still property',\n",
       " 'feeling grouchy',\n",
       " 'ive feeling little burdened lately wasnt sure',\n",
       " 'ive taking milligram time recommended amount ive fallen asleep lot faster also feel like funny',\n",
       " 'feel confused life teenager jaded year old man',\n",
       " 'petronas year feel petronas performed well made huge profit',\n",
       " 'feel romantic']"
      ]
     },
     "execution_count": 11,
     "metadata": {},
     "output_type": "execute_result"
    }
   ],
   "source": [
    "corpus = data_prep(df['text'])\n",
    "corpus[:10]"
   ]
  },
  {
   "cell_type": "markdown",
   "metadata": {
    "execution": {
     "iopub.execute_input": "2021-09-27T12:29:17.052933Z",
     "iopub.status.busy": "2021-09-27T12:29:17.052684Z",
     "iopub.status.idle": "2021-09-27T12:30:20.212360Z",
     "shell.execute_reply": "2021-09-27T12:30:20.211074Z",
     "shell.execute_reply.started": "2021-09-27T12:29:17.052901Z"
    }
   },
   "source": [
    "plt.figure(figsize=(20,8))\n",
    "word_cloud=\"\"\n",
    "for rows in corpus:\n",
    "    for words in corpus:\n",
    "        word_cloud += \" \".join(words)\n",
    "wordcloud = WordCloud().generate(word_cloud)\n",
    "plt.imshow(wordcloud)"
   ]
  },
  {
   "cell_type": "markdown",
   "metadata": {},
   "source": [
    "## Bag of words"
   ]
  },
  {
   "cell_type": "code",
   "execution_count": 12,
   "metadata": {
    "execution": {
     "iopub.execute_input": "2021-09-27T12:33:42.743226Z",
     "iopub.status.busy": "2021-09-27T12:33:42.742543Z",
     "iopub.status.idle": "2021-09-27T12:33:43.478771Z",
     "shell.execute_reply": "2021-09-27T12:33:43.478022Z",
     "shell.execute_reply.started": "2021-09-27T12:33:42.743182Z"
    }
   },
   "outputs": [],
   "source": [
    "cv = CountVectorizer(ngram_range=(1,2))\n",
    "traindata = cv.fit_transform(corpus)\n",
    "x = traindata\n",
    "y = df['label']"
   ]
  },
  {
   "cell_type": "code",
   "execution_count": 13,
   "metadata": {
    "execution": {
     "iopub.execute_input": "2021-09-27T14:14:45.613076Z",
     "iopub.status.busy": "2021-09-27T14:14:45.612796Z",
     "iopub.status.idle": "2021-09-27T14:14:45.625091Z",
     "shell.execute_reply": "2021-09-27T14:14:45.624250Z",
     "shell.execute_reply.started": "2021-09-27T14:14:45.613047Z"
    }
   },
   "outputs": [],
   "source": [
    "x_train, x_test, y_train, y_test = train_test_split(x, y, test_size=0.2, random_state=10)"
   ]
  },
  {
   "cell_type": "code",
   "execution_count": 14,
   "metadata": {
    "execution": {
     "iopub.execute_input": "2021-09-27T14:16:14.986879Z",
     "iopub.status.busy": "2021-09-27T14:16:14.986618Z",
     "iopub.status.idle": "2021-09-27T14:16:14.991362Z",
     "shell.execute_reply": "2021-09-27T14:16:14.990400Z",
     "shell.execute_reply.started": "2021-09-27T14:16:14.986850Z"
    }
   },
   "outputs": [],
   "source": [
    "nv = MultinomialNB()"
   ]
  },
  {
   "cell_type": "code",
   "execution_count": 15,
   "metadata": {
    "execution": {
     "iopub.execute_input": "2021-09-27T14:17:54.662564Z",
     "iopub.status.busy": "2021-09-27T14:17:54.662015Z",
     "iopub.status.idle": "2021-09-27T14:17:54.683778Z",
     "shell.execute_reply": "2021-09-27T14:17:54.682990Z",
     "shell.execute_reply.started": "2021-09-27T14:17:54.662528Z"
    }
   },
   "outputs": [
    {
     "data": {
      "text/plain": [
       "MultinomialNB()"
      ]
     },
     "execution_count": 15,
     "metadata": {},
     "output_type": "execute_result"
    }
   ],
   "source": [
    "nv.fit(x_train, y_train)"
   ]
  },
  {
   "cell_type": "code",
   "execution_count": 16,
   "metadata": {
    "execution": {
     "iopub.execute_input": "2021-09-27T14:19:08.542850Z",
     "iopub.status.busy": "2021-09-27T14:19:08.542588Z",
     "iopub.status.idle": "2021-09-27T14:19:08.550192Z",
     "shell.execute_reply": "2021-09-27T14:19:08.549501Z",
     "shell.execute_reply.started": "2021-09-27T14:19:08.542822Z"
    }
   },
   "outputs": [],
   "source": [
    "ypred = nv.predict(x_test)"
   ]
  },
  {
   "cell_type": "code",
   "execution_count": 17,
   "metadata": {
    "execution": {
     "iopub.execute_input": "2021-09-27T14:27:44.287775Z",
     "iopub.status.busy": "2021-09-27T14:27:44.287518Z",
     "iopub.status.idle": "2021-09-27T14:27:44.317170Z",
     "shell.execute_reply": "2021-09-27T14:27:44.316437Z",
     "shell.execute_reply.started": "2021-09-27T14:27:44.287748Z"
    }
   },
   "outputs": [
    {
     "name": "stdout",
     "output_type": "stream",
     "text": [
      "###### confusion matrix ######\n",
      "\n",
      "[[1924   74]\n",
      " [ 135 1467]]\n",
      "\n",
      "###### classification report ######\n",
      "\n",
      "              precision    recall  f1-score   support\n",
      "\n",
      "           0       0.93      0.96      0.95      1998\n",
      "           1       0.95      0.92      0.93      1602\n",
      "\n",
      "    accuracy                           0.94      3600\n",
      "   macro avg       0.94      0.94      0.94      3600\n",
      "weighted avg       0.94      0.94      0.94      3600\n",
      "\n",
      "\n",
      " accuracy score : 0.9419444444444445\n",
      "\n",
      " precision score : 0.9519792342634653\n",
      "\n",
      " recall score : 0.9157303370786517\n"
     ]
    }
   ],
   "source": [
    "print('###### confusion matrix ######\\n')\n",
    "print(confusion_matrix(y_test, ypred))\n",
    "print('\\n###### classification report ######\\n')\n",
    "print(classification_report(y_test, ypred))\n",
    "print('\\n accuracy score :', accuracy_score(y_test, ypred))\n",
    "print('\\n precision score :', precision_score(y_test, ypred))\n",
    "print('\\n recall score :', recall_score(y_test, ypred))"
   ]
  },
  {
   "cell_type": "code",
   "execution_count": 18,
   "metadata": {
    "execution": {
     "iopub.execute_input": "2021-09-27T14:31:10.335905Z",
     "iopub.status.busy": "2021-09-27T14:31:10.335584Z",
     "iopub.status.idle": "2021-09-27T14:31:10.362667Z",
     "shell.execute_reply": "2021-09-27T14:31:10.362007Z",
     "shell.execute_reply.started": "2021-09-27T14:31:10.335869Z"
    }
   },
   "outputs": [
    {
     "data": {
      "text/html": [
       "<div>\n",
       "<style scoped>\n",
       "    .dataframe tbody tr th:only-of-type {\n",
       "        vertical-align: middle;\n",
       "    }\n",
       "\n",
       "    .dataframe tbody tr th {\n",
       "        vertical-align: top;\n",
       "    }\n",
       "\n",
       "    .dataframe thead th {\n",
       "        text-align: right;\n",
       "    }\n",
       "</style>\n",
       "<table border=\"1\" class=\"dataframe\">\n",
       "  <thead>\n",
       "    <tr style=\"text-align: right;\">\n",
       "      <th></th>\n",
       "      <th>text</th>\n",
       "      <th>label</th>\n",
       "    </tr>\n",
       "  </thead>\n",
       "  <tbody>\n",
       "    <tr>\n",
       "      <th>1092</th>\n",
       "      <td>i been that i feel like i can traipse in and o...</td>\n",
       "      <td>love</td>\n",
       "    </tr>\n",
       "    <tr>\n",
       "      <th>1169</th>\n",
       "      <td>ive left the orange scented mixture white but ...</td>\n",
       "      <td>joy</td>\n",
       "    </tr>\n",
       "    <tr>\n",
       "      <th>615</th>\n",
       "      <td>i feel that the packaging is really lovely and...</td>\n",
       "      <td>love</td>\n",
       "    </tr>\n",
       "    <tr>\n",
       "      <th>864</th>\n",
       "      <td>i feel reassured that the county government in...</td>\n",
       "      <td>joy</td>\n",
       "    </tr>\n",
       "  </tbody>\n",
       "</table>\n",
       "</div>"
      ],
      "text/plain": [
       "                                                   text label\n",
       "1092  i been that i feel like i can traipse in and o...  love\n",
       "1169  ive left the orange scented mixture white but ...   joy\n",
       "615   i feel that the packaging is really lovely and...  love\n",
       "864   i feel reassured that the county government in...   joy"
      ]
     },
     "execution_count": 18,
     "metadata": {},
     "output_type": "execute_result"
    }
   ],
   "source": [
    "df_test=pd.read_csv(r\"D:\\1 Chrome Downloads\\test.txt\", delimiter=';', names = ['text','label'])\n",
    "df_test.sample(4)"
   ]
  },
  {
   "cell_type": "code",
   "execution_count": 19,
   "metadata": {
    "execution": {
     "iopub.execute_input": "2021-09-27T14:39:42.631519Z",
     "iopub.status.busy": "2021-09-27T14:39:42.630998Z",
     "iopub.status.idle": "2021-09-27T14:39:47.197755Z",
     "shell.execute_reply": "2021-09-27T14:39:47.196952Z",
     "shell.execute_reply.started": "2021-09-27T14:39:42.631482Z"
    }
   },
   "outputs": [],
   "source": [
    "manual_encoder(df_test['label'])\n",
    "corpus = data_prep(df_test['text'])\n",
    "testdata = cv.transform(corpus)\n",
    "pred = nv.predict(testdata)"
   ]
  },
  {
   "cell_type": "code",
   "execution_count": 20,
   "metadata": {
    "execution": {
     "iopub.execute_input": "2021-09-27T14:40:49.206844Z",
     "iopub.status.busy": "2021-09-27T14:40:49.206517Z",
     "iopub.status.idle": "2021-09-27T14:40:49.243384Z",
     "shell.execute_reply": "2021-09-27T14:40:49.242718Z",
     "shell.execute_reply.started": "2021-09-27T14:40:49.206810Z"
    }
   },
   "outputs": [
    {
     "name": "stdout",
     "output_type": "stream",
     "text": [
      "###### confusion matrix ######\n",
      "\n",
      "[[1047   33]\n",
      " [  70  850]]\n",
      "\n",
      "###### classification report ######\n",
      "\n",
      "              precision    recall  f1-score   support\n",
      "\n",
      "           0       0.94      0.97      0.95      1080\n",
      "           1       0.96      0.92      0.94       920\n",
      "\n",
      "    accuracy                           0.95      2000\n",
      "   macro avg       0.95      0.95      0.95      2000\n",
      "weighted avg       0.95      0.95      0.95      2000\n",
      "\n",
      "\n",
      " accuracy score : 0.9485\n",
      "\n",
      " precision score : 0.9626274065685164\n",
      "\n",
      " recall score : 0.9239130434782609\n"
     ]
    }
   ],
   "source": [
    "print('###### confusion matrix ######\\n')\n",
    "print(confusion_matrix(df_test['label'], pred))\n",
    "print('\\n###### classification report ######\\n')\n",
    "print(classification_report(df_test['label'], pred))\n",
    "print('\\n accuracy score :', accuracy_score(df_test['label'], pred))\n",
    "print('\\n precision score :', precision_score(df_test['label'], pred))\n",
    "print('\\n recall score :', recall_score(df_test['label'], pred))"
   ]
  },
  {
   "cell_type": "code",
   "execution_count": null,
   "metadata": {},
   "outputs": [],
   "source": []
  }
 ],
 "metadata": {
  "kernelspec": {
   "display_name": "Python 3",
   "language": "python",
   "name": "python3"
  },
  "language_info": {
   "codemirror_mode": {
    "name": "ipython",
    "version": 3
   },
   "file_extension": ".py",
   "mimetype": "text/x-python",
   "name": "python",
   "nbconvert_exporter": "python",
   "pygments_lexer": "ipython3",
   "version": "3.8.5"
  }
 },
 "nbformat": 4,
 "nbformat_minor": 4
}
